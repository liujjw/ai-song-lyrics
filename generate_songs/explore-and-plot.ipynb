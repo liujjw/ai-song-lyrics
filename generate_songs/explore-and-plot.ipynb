{
 "cells": [
  {
   "cell_type": "markdown",
   "metadata": {},
   "source": [
    "# Explore the chat completions for the fine-tuned model (for generate.py)"
   ]
  },
  {
   "cell_type": "code",
   "execution_count": 1,
   "metadata": {},
   "outputs": [],
   "source": [
    "from setup import create_openaiclient\n",
    "import json"
   ]
  },
  {
   "cell_type": "code",
   "execution_count": 2,
   "metadata": {},
   "outputs": [],
   "source": [
    "client = create_openaiclient()"
   ]
  },
  {
   "cell_type": "code",
   "execution_count": 3,
   "metadata": {},
   "outputs": [],
   "source": [
    "SYSTEM_CONTENT = \"You are a songwriter.\""
   ]
  },
  {
   "cell_type": "code",
   "execution_count": 4,
   "metadata": {},
   "outputs": [],
   "source": [
    "with open('./models/model_ftjob-KgpcRw4JolOFAn2OuRJxOSy0.json', 'r') as file:\n",
    "    data = json.load(file)\n",
    "\n",
    "fine_tuned_model = data.get('fine_tuned_model')"
   ]
  },
  {
   "cell_type": "code",
   "execution_count": 6,
   "metadata": {},
   "outputs": [
    {
     "name": "stdout",
     "output_type": "stream",
     "text": [
      "(Country ass nigga)\n",
      "(Swea it's Drake man, swea it's Drake man)\n",
      "(Tryna keep it G)\n",
      "I tell ya, I tell ya\n",
      "You know part of the game is figuring out\n",
      "Who you gon' be if you gon' you know\n",
      "And that's two choices\n",
      "Where I come from, in the six, you know what I'm saying.\n",
      "You gon' either be a lost man\n",
      "Or a found man, either through the music or through God or through the streets, you know.\n",
      "(Young Money)\n",
      "(Yeezy asking ask god to forgive me of my sins man)\n",
      "(Spirits)\n",
      "Spirit (Yeah) and Lord I pray that it works out (Yeah)\n"
     ]
    }
   ],
   "source": [
    "key_phrases = [\n",
    "    \"the six, Young Money, OVO\",\n",
    "]\n",
    "\n",
    "for key_phrase in key_phrases:\n",
    "    completion = client.chat.completions.create(\n",
    "    model=fine_tuned_model,\n",
    "    messages=[\n",
    "        {\"role\": \"system\", \"content\": SYSTEM_CONTENT},\n",
    "        {\"role\": \"user\", \"content\": \"I want to write a Drake song.\"},\n",
    "        {\"role\": \"assistant\", \"content\": \"Ok, let's write a song part by part. First tell me about a part of the song using some phrases.\"},\n",
    "        {\"role\": \"user\", \"content\": key_phrase}\n",
    "    ]\n",
    "    )\n",
    "    print(completion.choices[0].message.content)"
   ]
  },
  {
   "cell_type": "markdown",
   "metadata": {},
   "source": [
    "# TODO inspect loss metrics and plot them (with weights and biases integration?)"
   ]
  },
  {
   "cell_type": "code",
   "execution_count": null,
   "metadata": {},
   "outputs": [],
   "source": [
    "# The validation loss doesn't really change so it might not make sense."
   ]
  }
 ],
 "metadata": {
  "kernelspec": {
   "display_name": "venv",
   "language": "python",
   "name": "python3"
  },
  "language_info": {
   "codemirror_mode": {
    "name": "ipython",
    "version": 3
   },
   "file_extension": ".py",
   "mimetype": "text/x-python",
   "name": "python",
   "nbconvert_exporter": "python",
   "pygments_lexer": "ipython3",
   "version": "3.12.3"
  }
 },
 "nbformat": 4,
 "nbformat_minor": 2
}
